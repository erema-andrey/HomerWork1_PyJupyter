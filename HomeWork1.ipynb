{
 "cells": [
  {
   "attachments": {},
   "cell_type": "markdown",
   "metadata": {},
   "source": [
    "- Оформляйте ноутбук, используя эти советы:\n",
    "## Номер задачи - заголовок 2\n",
    "### Номер подзадачи - заголовок 3\n",
    "[\n",
    "Предоставленные наборы данных оформляйте, как код\n",
    "]"
   ]
  },
  {
   "attachments": {},
   "cell_type": "markdown",
   "metadata": {},
   "source": [
    "## Домашнее задание \n",
    "\n",
    "- На складе лежат разные фрукты в разном количестве.\n",
    "- Нужно написать функцию, которая на вход принимает любое\n",
    "количество названий фруктов и их количество, а возвращает\n",
    "общее количество фруктов на складе\n"
   ]
  },
  {
   "cell_type": "code",
   "execution_count": null,
   "metadata": {},
   "outputs": [],
   "source": [
    "def fruits(**kwargs):\n",
    "    \n",
    "    some_fruits = sum(kwargs.values())\n",
    "    \n",
    "    return f'Total fruits: {some_fruits}'\n"
   ]
  },
  {
   "cell_type": "code",
   "execution_count": null,
   "metadata": {},
   "outputs": [],
   "source": [
    "print(fruits(apples=5, pears=10, bananas=4))\n"
   ]
  },
  {
   "attachments": {},
   "cell_type": "markdown",
   "metadata": {},
   "source": [
    "## Домашнее задание 3\n",
    "\n",
    "- Дан список с затратами на рекламу. Но в данных есть ошибки,\n",
    "некоторые затраты имеют отрицательную величину. Удалите\n",
    "такие значения из списка и посчитайте суммарные затраты\n",
    "\n",
    "[100, 125, -90, 345, 655, -1, 0, 200]\n",
    "\n",
    "- Используйте list comprehensions"
   ]
  },
  {
   "cell_type": "code",
   "execution_count": null,
   "metadata": {},
   "outputs": [],
   "source": [
    "cost_advertising = [100,125,-90,345,655,-1,0,200]\n",
    "cost = [ i if i > 0 else 0 for i in cost_advertising ]\n",
    "cost"
   ]
  },
  {
   "cell_type": "code",
   "execution_count": null,
   "metadata": {},
   "outputs": [],
   "source": [
    "print(f'Total expenses: {sum([i for i in cost if i > 0 ])}')"
   ]
  },
  {
   "attachments": {},
   "cell_type": "markdown",
   "metadata": {},
   "source": [
    "## Домашнее задание 4\n",
    "\n",
    "### Даны два списка.\n",
    " - Дата покупки\n",
    "\n",
    "['2021-09-14', '2021-12-15', '2021-09-08', '2021-12-05', '2021-10-09', '2021-09-30', '2021-12-22', '2021-11-29', '2021-12-24', '2021-11-26', '2021-10-27', '2021-12-18', '2021-11-09', '2021-11-23', '2021-09-27',\n",
    "'2021-10-02', '2021-12-27', '2021-09-20', '2021-12-13', '2021-11-01', '2021-11-09', '2021-12-06', '2021-12-08', '2021-10-09', '2021-10-31', '2021-09-30', '2021-11-09', '2021-12-13', '2021-10-26', '2021-12-09']\n",
    "\n",
    "- Суммы покупок по датам\n",
    "\n",
    "[1270, 8413, 9028, 3703, 5739, 4095, 295, 4944, 5723, 3701, 4471, 651, 7037, 4274, 6275, 4988, 6930, 2971, 6592, 2004, 2822, 519, 3406, 2732, 5015, 2008, 316, 6333, 5700, 2887]"
   ]
  },
  {
   "cell_type": "code",
   "execution_count": null,
   "metadata": {},
   "outputs": [],
   "source": [
    "date = ['2021-09-14', '2021-12-15', '2021-09-08', '2021-12-05', '2021-10-09', \n",
    "        '2021-09-30', '2021-12-22', '2021-11-29', '2021-12-24', '2021-11-26', \n",
    "        '2021-10-27', '2021-12-18', '2021-11-09', '2021-11-23', '2021-09-27', \n",
    "        '2021-10-02', '2021-12-27', '2021-09-20', '2021-12-13', '2021-11-01', \n",
    "        '2021-11-09', '2021-12-06', '2021-12-08', '2021-10-09', '2021-10-31', \n",
    "        '2021-09-30', '2021-11-09', '2021-12-13', '2021-10-26', '2021-12-09']\n",
    "cost = [1270, 8413, 9028, 3703, 5739, 4095, 295, 4944, 5723, 3701, \n",
    "        4471, 651, 7037, 4274, 6275, 4988, 6930, 2971, 6592, 2004, \n",
    "        2822, 519, 3406, 2732, 5015, 2008, 316, 6333, 5700, 2887]"
   ]
  },
  {
   "cell_type": "code",
   "execution_count": null,
   "metadata": {},
   "outputs": [],
   "source": [
    "def november(data1: list, data2: list) -> list:\n",
    "    \n",
    "    new_data = []\n",
    "    \n",
    "    for i in range(len(data1)-1):\n",
    "        if '-11-' in data1[i]:\n",
    "            new_data.append(data2[i])\n",
    "            \n",
    "    return new_data"
   ]
  },
  {
   "cell_type": "code",
   "execution_count": null,
   "metadata": {},
   "outputs": [],
   "source": [
    "print(november(date, cost))\n",
    "print(f'Profit: {sum(november(date, cost))}')"
   ]
  },
  {
   "cell_type": "code",
   "execution_count": null,
   "metadata": {},
   "outputs": [],
   "source": [
    "print([cost[i] for i in range(0, len(date)-1) if \"-11\" in date[i]])\n",
    "print(f'Profit: {sum([cost[i] for i in range(len(date)-1) if \"-11\" in date[i]])}')"
   ]
  },
  {
   "attachments": {},
   "cell_type": "markdown",
   "metadata": {},
   "source": [
    "## 4.1 Найдите, какая выручка у компании в ноябре\n",
    "- Используйте list comprehensions"
   ]
  },
  {
   "cell_type": "code",
   "execution_count": null,
   "metadata": {},
   "outputs": [],
   "source": [
    "def profits(data1: list, data2: list) -> dict:\n",
    "    \n",
    "    profits = {}\n",
    "    \n",
    "    for i in range(len(data1)):\n",
    "        \n",
    "        if date[i].split('-')[1] in profits.keys():\n",
    "            profits[date[i].split('-')[1]] += cost[i]\n",
    "        else:\n",
    "            profits[date[i].split('-')[1]] = cost[i]\n",
    "            \n",
    "    return profits\n",
    "\n",
    "print(profits(date, cost))"
   ]
  }
 ],
 "metadata": {
  "kernelspec": {
   "display_name": "Python 3",
   "language": "python",
   "name": "python3"
  },
  "language_info": {
   "codemirror_mode": {
    "name": "ipython",
    "version": 3
   },
   "file_extension": ".py",
   "mimetype": "text/x-python",
   "name": "python",
   "nbconvert_exporter": "python",
   "pygments_lexer": "ipython3",
   "version": "3.11.1"
  },
  "orig_nbformat": 4
 },
 "nbformat": 4,
 "nbformat_minor": 2
}
